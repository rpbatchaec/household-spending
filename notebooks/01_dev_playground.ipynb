﻿{
 "cells": [
  {
   "cell_type": "code",
   "execution_count": null,
   "metadata": {},
   "outputs": [],
   "source": [
    "from household_spending.boa_transform import transform_main\n",
    "transform_main([\n",
    "    \"--source\", r\"E:\\\\path\\\\to\\\\your.csv\",\n",
    "    \"--category-mapping\", r\"E:\\\\path\\\\to\\\\CategoryMapping.csv\",\n",
    "    \"--report\",\n",
    "])\n"
   ]
  }
 ],
 "metadata": {
  "kernelspec": {"display_name": "Python 3", "language": "python", "name": "python3"},
  "language_info": {"name": "python"}
 },
 "nbformat": 4,
 "nbformat_minor": 5
}
